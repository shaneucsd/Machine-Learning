{
 "cells": [
  {
   "cell_type": "code",
   "execution_count": 55,
   "metadata": {},
   "outputs": [],
   "source": [
    "import scipy.io as sio\n",
    "import matplotlib.pyplot as plt\n",
    "import numpy as np\n",
    "import seaborn as sns\n",
    "\n",
    "\n",
    "%config InlineBackend.figure_format = 'retina'\n",
    "import pandas as pd\n",
    "import networkx as nx\n",
    "from sklearn import metrics\n",
    "from sklearn.model_selection import GridSearchCV\n",
    "from sklearn import svm\n",
    "from sklearn.linear_model import LogisticRegressionCV,LogisticRegression\n",
    "from sklearn.tree import DecisionTreeClassifier\n",
    "from sklearn.model_selection import cross_val_score\n",
    "from sklearn.model_selection import KFold\n",
    "from sklearn.model_selection import train_test_split"
   ]
  },
  {
   "cell_type": "markdown",
   "metadata": {},
   "source": [
    "# Data"
   ]
  },
  {
   "cell_type": "code",
   "execution_count": 56,
   "metadata": {},
   "outputs": [],
   "source": [
    "X_1=pd.read_csv('data/1_X.csv')\n",
    "Y_1=np.ravel(pd.read_csv('data/1_Y.csv').replace({-1:0}))"
   ]
  },
  {
   "cell_type": "code",
   "execution_count": 124,
   "metadata": {
    "scrolled": true
   },
   "outputs": [
    {
     "data": {
      "text/plain": [
       "(3000, 174)"
      ]
     },
     "execution_count": 124,
     "metadata": {},
     "output_type": "execute_result"
    }
   ],
   "source": [
    "X_1.shape"
   ]
  },
  {
   "cell_type": "code",
   "execution_count": 142,
   "metadata": {},
   "outputs": [
    {
     "name": "stdout",
     "output_type": "stream",
     "text": [
      "Positive rate:  0.27\n"
     ]
    }
   ],
   "source": [
    "print('Positive rate: ',np.mean(Y_1))"
   ]
  },
  {
   "cell_type": "code",
   "execution_count": 144,
   "metadata": {
    "scrolled": true
   },
   "outputs": [
    {
     "data": {
      "text/plain": [
       "0.27000000000000002"
      ]
     },
     "execution_count": 144,
     "metadata": {},
     "output_type": "execute_result"
    }
   ],
   "source": [
    "null_error=1-max(np.mean(Y_1),1-np.mean(Y_1))\n",
    "null_error"
   ]
  },
  {
   "cell_type": "code",
   "execution_count": 57,
   "metadata": {},
   "outputs": [],
   "source": [
    "X_2=pd.read_csv('data/2_X.csv')\n",
    "Y_2=np.ravel(pd.read_csv('data/2_Y.csv').replace({-1:0}))"
   ]
  },
  {
   "cell_type": "code",
   "execution_count": 125,
   "metadata": {},
   "outputs": [
    {
     "data": {
      "text/plain": [
       "(12145, 4)"
      ]
     },
     "execution_count": 125,
     "metadata": {},
     "output_type": "execute_result"
    }
   ],
   "source": [
    "X_2.shape"
   ]
  },
  {
   "cell_type": "code",
   "execution_count": 146,
   "metadata": {
    "scrolled": false
   },
   "outputs": [
    {
     "name": "stdout",
     "output_type": "stream",
     "text": [
      "Positive rate:  0.110004116921\n"
     ]
    }
   ],
   "source": [
    "print('Positive rate: ',np.mean(Y_2))"
   ]
  },
  {
   "cell_type": "code",
   "execution_count": 147,
   "metadata": {
    "scrolled": true
   },
   "outputs": [
    {
     "data": {
      "text/plain": [
       "0.11000411692054346"
      ]
     },
     "execution_count": 147,
     "metadata": {},
     "output_type": "execute_result"
    }
   ],
   "source": [
    "null_error=1-max(np.mean(Y_2),1-np.mean(Y_2))\n",
    "null_error"
   ]
  },
  {
   "cell_type": "code",
   "execution_count": 133,
   "metadata": {
    "scrolled": true
   },
   "outputs": [
    {
     "data": {
      "text/plain": [
       "0.24385714285714286"
      ]
     },
     "execution_count": 133,
     "metadata": {},
     "output_type": "execute_result"
    }
   ],
   "source": [
    "np.mean(Y_3)"
   ]
  },
  {
   "cell_type": "code",
   "execution_count": 132,
   "metadata": {},
   "outputs": [],
   "source": [
    "X_3=pd.read_csv('data/3_X.csv')\n",
    "Y_3=np.ravel(pd.read_csv('data/3_Y.csv').replace({-1:0}))"
   ]
  },
  {
   "cell_type": "code",
   "execution_count": 126,
   "metadata": {
    "scrolled": false
   },
   "outputs": [
    {
     "data": {
      "text/plain": [
       "(7000, 107)"
      ]
     },
     "execution_count": 126,
     "metadata": {},
     "output_type": "execute_result"
    }
   ],
   "source": [
    "X_3.shape"
   ]
  },
  {
   "cell_type": "code",
   "execution_count": 148,
   "metadata": {
    "scrolled": false
   },
   "outputs": [
    {
     "name": "stdout",
     "output_type": "stream",
     "text": [
      "Positive rate:  0.243857142857\n"
     ]
    }
   ],
   "source": [
    "print('Positive rate: ',np.mean(Y_3))"
   ]
  },
  {
   "cell_type": "code",
   "execution_count": 149,
   "metadata": {
    "scrolled": true
   },
   "outputs": [
    {
     "data": {
      "text/plain": [
       "0.24385714285714288"
      ]
     },
     "execution_count": 149,
     "metadata": {},
     "output_type": "execute_result"
    }
   ],
   "source": [
    "null_error=1-max(np.mean(Y_3),1-np.mean(Y_3))\n",
    "null_error"
   ]
  },
  {
   "cell_type": "code",
   "execution_count": 59,
   "metadata": {},
   "outputs": [],
   "source": [
    "X_4=pd.read_csv('data/4_X.csv')\n",
    "Y_4=np.ravel(pd.read_csv('data/4_Y.csv').replace({-1:0}))"
   ]
  },
  {
   "cell_type": "code",
   "execution_count": 128,
   "metadata": {
    "scrolled": true
   },
   "outputs": [
    {
     "data": {
      "text/plain": [
       "(7000, 115)"
      ]
     },
     "execution_count": 128,
     "metadata": {},
     "output_type": "execute_result"
    }
   ],
   "source": [
    "X_4.shape"
   ]
  },
  {
   "cell_type": "code",
   "execution_count": 150,
   "metadata": {
    "scrolled": false
   },
   "outputs": [
    {
     "name": "stdout",
     "output_type": "stream",
     "text": [
      "Positive rate:  0.531\n"
     ]
    }
   ],
   "source": [
    "print('Positive rate: ',np.mean(Y_4))"
   ]
  },
  {
   "cell_type": "code",
   "execution_count": 151,
   "metadata": {
    "scrolled": true
   },
   "outputs": [
    {
     "data": {
      "text/plain": [
       "0.46899999999999997"
      ]
     },
     "execution_count": 151,
     "metadata": {},
     "output_type": "execute_result"
    }
   ],
   "source": [
    "null_error=1-max(np.mean(Y_4),1-np.mean(Y_4))\n",
    "null_error"
   ]
  },
  {
   "cell_type": "markdown",
   "metadata": {},
   "source": [
    "# Function defination "
   ]
  },
  {
   "cell_type": "code",
   "execution_count": null,
   "metadata": {},
   "outputs": [],
   "source": [
    "def "
   ]
  },
  {
   "cell_type": "code",
   "execution_count": 60,
   "metadata": {},
   "outputs": [],
   "source": [
    "Thre=np.arange(0,1,0.05);\n",
    "C_lists     = [0.1,1,10,100] # Different C to try.\n",
    "gamma_lists = [0.0000001,0.000001,0.00001,0.0001]# Different gamma to try.\n",
    "D_list=[1,2,3,4,5,6,7,8,9,10,11,12,13]\n",
    "test_rate_list=[{0.8:0,0.5:1,0.2:2}]"
   ]
  },
  {
   "cell_type": "code",
   "execution_count": 86,
   "metadata": {},
   "outputs": [],
   "source": [
    "def myfunc(x,y,test_rate,clf_type,p=False,results=False):\n",
    "    print(f'Test proportion is {test_rate}\\n')\n",
    "    training_error=[]\n",
    "    testing_error=[]\n",
    "    for i in range(0,3):\n",
    "        if i>=1:\n",
    "            p = False\n",
    "        x_train,x_test,y_train,y_test= train_test_split(\n",
    "            x,y,test_size=test_rate,random_state=0)\n",
    "\n",
    "        if clf_type=='svm':\n",
    "            clf=svm_results_(x_train,y_train,p)\n",
    "            \n",
    "            training_error.append(error(clf.predict(x_train),y_train,'\\nTraining Error ',False))\n",
    "            testing_error.append(error(clf.predict(x_test),y_test,'\\nTraining Error ',False))\n",
    "\n",
    "        if clf_type=='log':\n",
    "            clf=log_results_(x_train,y_train,p)\n",
    "            th=tuning_thre(clf,x_train,y_train,p)\n",
    "            training_error.append(error(lr_pred(clf,x_train,th),y_train,'\\nTraining Error ',False))\n",
    "            testing_error.append(error(lr_pred(clf,x_test,th),y_test,   'Testing  Error ',False))\n",
    "\n",
    "        if clf_type=='DT':\n",
    "            clf=DT_results_(x_train,y_train,p)\n",
    "            training_error.append(error(clf.predict(x_train),y_train,'\\nTraining Error ',False))\n",
    "            testing_error.append(error(clf.predict(x_test),y_test,'\\nTraining Error ',False))\n",
    "    \n",
    "    if results == True :\n",
    "        print('Training Error : ',np.mean(training_error))\n",
    "        print('Testing Error  : ',np.mean(testing_error))\n",
    "    return clf,training_error,testing_error"
   ]
  },
  {
   "cell_type": "code",
   "execution_count": 74,
   "metadata": {},
   "outputs": [],
   "source": [
    "def error (clf_pred,y,error_type,p=True):\n",
    "    if p==True:\n",
    "        print(f'{error_type} : ',1-metrics.accuracy_score(y,clf_pred))\n",
    "    return 1-metrics.accuracy_score(y,clf_pred)"
   ]
  },
  {
   "cell_type": "code",
   "execution_count": 75,
   "metadata": {},
   "outputs": [],
   "source": [
    "def training_error(clf_list):\n",
    "    error=0\n",
    "    for clf in clf_list:\n",
    "        error+=clf.cv_results_['mean_train_score'].mean()\n",
    "    return error/len(clf_list)\n",
    "\n",
    "def testing_error(clf_list):\n",
    "    error=0\n",
    "    for clf in clf_list:\n",
    "        error+=clf.cv_results_['mean_test_score'].mean()\n",
    "    return error/len(clf_list)\n",
    "    "
   ]
  },
  {
   "cell_type": "markdown",
   "metadata": {},
   "source": [
    "### SVM "
   ]
  },
  {
   "cell_type": "code",
   "execution_count": 64,
   "metadata": {},
   "outputs": [],
   "source": [
    "def svm_results_(x,y,p=False):\n",
    "    \n",
    "    svc=svm.SVC()\n",
    "    parameters = {'kernel':['rbf'], 'C':C_lists,'gamma':gamma_lists}\n",
    "    svm_ = GridSearchCV(svc, parameters, cv=3,iid=False,return_train_score =True)\n",
    "    svm_.fit(x,y);\n",
    "    if p==True:\n",
    "        print('Inside cv:')\n",
    "        print('    Testing  score of  split one :',svm_.cv_results_['split0_test_score'].mean())\n",
    "        print('    Training score of  split one :',svm_.cv_results_['split0_train_score'].mean())\n",
    "        print('    Testing  score of  split two :',svm_.cv_results_['split1_test_score'].mean())\n",
    "        print('    Training score of  split two :',svm_.cv_results_['split1_train_score'].mean())\n",
    "        print('    Testing  score of  split three :',svm_.cv_results_['split2_test_score'].mean())\n",
    "        print('    Training score of  split three :',svm_.cv_results_['split2_train_score'].mean())\n",
    "        print('Mean test score  : ',svm_.cv_results_['mean_test_score'].mean())\n",
    "        print('Mean train score : ',svm_.cv_results_['mean_train_score'].mean())\n",
    "        print('Best parameters :',svm_.best_params_)\n",
    "        \n",
    "    return svm_"
   ]
  },
  {
   "cell_type": "markdown",
   "metadata": {},
   "source": [
    "### Logistic Regression"
   ]
  },
  {
   "cell_type": "code",
   "execution_count": 65,
   "metadata": {},
   "outputs": [],
   "source": [
    "def log_results_(x,y,p=False):\n",
    "    \n",
    "    parameters = {'C':C_lists}\n",
    "    lr = GridSearchCV(LogisticRegression(), parameters, cv=3,iid=False,return_train_score =True)\n",
    "    lr.fit(x,y);\n",
    "    if p==True:\n",
    "        print('Inside cv:')\n",
    "        print('    Testing  score of  split one :',lr.cv_results_['split0_test_score'].mean())\n",
    "        print('    Training score of  split one :',lr.cv_results_['split0_train_score'].mean())\n",
    "        print('    Testing  score of  split two :',lr.cv_results_['split1_test_score'].mean())\n",
    "        print('    Training score of  split two :',lr.cv_results_['split1_train_score'].mean())\n",
    "        print('    Testing  score of  split three :',lr.cv_results_['split2_test_score'].mean())\n",
    "        print('    Training score of  split three :',lr.cv_results_['split2_train_score'].mean())\n",
    "        print('Mean test score  : ',lr.cv_results_['mean_test_score'].mean())\n",
    "        print('Mean train score : ',lr.cv_results_['mean_train_score'].mean())\n",
    "        print('Best parameters :',lr.best_params_)\n",
    "    return lr\n",
    "\n",
    "def tuning_thre(lr,x,y,p=False):\n",
    "    Prob=pd.DataFrame(lr.predict_proba(x)[:,0])\n",
    "    max_=0\n",
    "    for th in Thre:\n",
    "        lr_pred=Prob.applymap(lambda x: 0 if x>th else 1)\n",
    "        score=metrics.accuracy_score(y,lr_pred)\n",
    "        if score>max_:\n",
    "            t=th\n",
    "            max_=score\n",
    "    if p==True:\n",
    "        print('Best threshold : ',t)\n",
    "    return t\n",
    "\n",
    "def lr_pred(lr,x,t):\n",
    "    Prob=pd.DataFrame(lr.predict_proba(x)[:,0])\n",
    "    lr_pred=Prob.applymap(lambda x: 0 if x>t else 1)\n",
    "    return lr_pred"
   ]
  },
  {
   "cell_type": "markdown",
   "metadata": {},
   "source": [
    "### Decision Tree"
   ]
  },
  {
   "cell_type": "code",
   "execution_count": 66,
   "metadata": {},
   "outputs": [],
   "source": [
    "def DT_results_(x,y,p=False):\n",
    "    \n",
    "    parameters=[{'max_depth':D_list}]\n",
    "    DT_ = GridSearchCV(DecisionTreeClassifier(), parameters,cv=3,iid=False,return_train_score=True)\n",
    "    DT_.fit(x,y)\n",
    "    if p==True:\n",
    "        print('Inside cv:')\n",
    "        print('    Testing  score of  split one :',DT_.cv_results_['split0_test_score'].mean())\n",
    "        print('    Training score of  split one :',DT_.cv_results_['split0_train_score'].mean())\n",
    "        print('    Testing  score of  split two :',DT_.cv_results_['split1_test_score'].mean())\n",
    "        print('    Training score of  split two :',DT_.cv_results_['split1_train_score'].mean())\n",
    "        print('    Testing  score of  split three :',DT_.cv_results_['split2_test_score'].mean())\n",
    "        print('    Training score of  split three :',DT_.cv_results_['split2_train_score'].mean())\n",
    "        print('Mean test score  : ',DT_.cv_results_['mean_test_score'].mean())\n",
    "        print('Mean train score : ',DT_.cv_results_['mean_train_score'].mean())\n",
    "        print('Best parameters :',DT_.best_params_)\n",
    "        \n",
    "    return DT_"
   ]
  },
  {
   "cell_type": "markdown",
   "metadata": {},
   "source": [
    "###  Compare the same classifier through datasets"
   ]
  },
  {
   "cell_type": "markdown",
   "metadata": {},
   "source": [
    "### Compare through classifiers"
   ]
  },
  {
   "cell_type": "markdown",
   "metadata": {},
   "source": [
    "# Classification Result"
   ]
  },
  {
   "cell_type": "markdown",
   "metadata": {},
   "source": [
    "### Dataset 1 "
   ]
  },
  {
   "cell_type": "markdown",
   "metadata": {},
   "source": [
    "### SVM "
   ]
  },
  {
   "cell_type": "code",
   "execution_count": 79,
   "metadata": {
    "scrolled": true
   },
   "outputs": [
    {
     "name": "stdout",
     "output_type": "stream",
     "text": [
      "Test proportion is 0.8\n",
      "\n",
      "Inside cv:\n",
      "    Testing  score of  split one : 0.703047263682\n",
      "    Training score of  split one : 0.90899122807\n",
      "    Testing  score of  split two : 0.713125\n",
      "    Training score of  split two : 0.90046875\n",
      "    Testing  score of  split three : 0.692211055276\n",
      "    Training score of  split three : 0.911315461347\n",
      "Mean test score  :  0.702794439653\n",
      "Mean train score :  0.906925146472\n",
      "Best parameters : {'C': 0.1, 'gamma': 1e-07, 'kernel': 'rbf'}\n",
      "Training Error :  0.271666666667\n",
      "Testing Error  :  0.269583333333\n"
     ]
    }
   ],
   "source": [
    "svm_1_t1=myfunc(X_1,Y_1,0.8,'svm',True,results=True)[0]"
   ]
  },
  {
   "cell_type": "code",
   "execution_count": 81,
   "metadata": {
    "scrolled": false
   },
   "outputs": [
    {
     "name": "stdout",
     "output_type": "stream",
     "text": [
      "Test proportion is 0.5\n",
      "\n",
      "Training Error :  0.00866666666667\n",
      "Testing Error  :  0.262\n"
     ]
    }
   ],
   "source": [
    "svm_1_t2=myfunc(X_1,Y_1,0.5,'svm',False,results=True)[0];"
   ]
  },
  {
   "cell_type": "code",
   "execution_count": 84,
   "metadata": {
    "scrolled": false
   },
   "outputs": [
    {
     "name": "stdout",
     "output_type": "stream",
     "text": [
      "Test proportion is 0.2\n",
      "\n",
      "Training Error :  0.0275\n",
      "Testing Error  :  0.246666666667\n"
     ]
    }
   ],
   "source": [
    "svm_1_t3=myfunc(X_1,Y_1,0.2,'svm',False,results=True)[0];"
   ]
  },
  {
   "cell_type": "code",
   "execution_count": 154,
   "metadata": {
    "scrolled": true
   },
   "outputs": [
    {
     "name": "stdout",
     "output_type": "stream",
     "text": [
      "Aver_train_error 0.10261111111122334\n",
      "Aver_test_error 0.2594166666666667\n"
     ]
    }
   ],
   "source": [
    "print('Aver_train_error',(0.271666666667+ 0.00866666666667+0.0275)/3)\n",
    "print('Aver_test_error',(0.269583333333+0.262+ 0.246666666667)/3)"
   ]
  },
  {
   "cell_type": "markdown",
   "metadata": {},
   "source": [
    "### Logistic Regression"
   ]
  },
  {
   "cell_type": "code",
   "execution_count": 87,
   "metadata": {
    "collapsed": true
   },
   "outputs": [
    {
     "name": "stdout",
     "output_type": "stream",
     "text": [
      "Test proportion is 0.8\n",
      "\n",
      "Inside cv:\n",
      "    Testing  score of  split one : 0.726368159204\n",
      "    Training score of  split one : 0.729323308271\n",
      "    Testing  score of  split two : 0.73\n",
      "    Training score of  split two : 0.7275\n",
      "    Testing  score of  split three : 0.72864321608\n",
      "    Training score of  split three : 0.728179551122\n",
      "Mean test score  :  0.728337125095\n",
      "Mean train score :  0.728334286464\n",
      "Best parameters : {'C': 0.1}\n",
      "Best threshold :  0.0\n",
      "Training Error :  0.271666666667\n",
      "Testing Error  :  0.269583333333\n"
     ]
    }
   ],
   "source": [
    "lr_1_t1=myfunc(X_1,Y_1,0.8,'log',True,results=True)[0];"
   ]
  },
  {
   "cell_type": "code",
   "execution_count": 88,
   "metadata": {},
   "outputs": [
    {
     "name": "stdout",
     "output_type": "stream",
     "text": [
      "Test proportion is 0.5\n",
      "\n",
      "Training Error :  0.282\n",
      "Testing Error  :  0.258\n"
     ]
    }
   ],
   "source": [
    "lr_1_t2=myfunc(X_1,Y_1,0.5,'log',False,results=True)[0];"
   ]
  },
  {
   "cell_type": "code",
   "execution_count": 89,
   "metadata": {
    "scrolled": true
   },
   "outputs": [
    {
     "name": "stdout",
     "output_type": "stream",
     "text": [
      "Test proportion is 0.2\n",
      "\n",
      "Training Error :  0.2725\n",
      "Testing Error  :  0.26\n"
     ]
    }
   ],
   "source": [
    "lr_1_t3=myfunc(X_1,Y_1,0.2,'log',False,results=True)[0];"
   ]
  },
  {
   "cell_type": "code",
   "execution_count": 159,
   "metadata": {
    "scrolled": true
   },
   "outputs": [
    {
     "name": "stdout",
     "output_type": "stream",
     "text": [
      "Aver_train_error 0.275388888889\n",
      "Aver_test_error 0.26252777777766667\n"
     ]
    }
   ],
   "source": [
    "print('Aver_train_error',( 0.271666666667 + 0.282 + 0.2725 )/3)\n",
    "print('Aver_test_error',( 0.269583333333 + 0.258 +  0.26)/3)"
   ]
  },
  {
   "cell_type": "markdown",
   "metadata": {},
   "source": [
    "### Decision Tree"
   ]
  },
  {
   "cell_type": "code",
   "execution_count": 90,
   "metadata": {
    "scrolled": false
   },
   "outputs": [
    {
     "name": "stdout",
     "output_type": "stream",
     "text": [
      "Test proportion is 0.8\n",
      "\n",
      "Inside cv:\n",
      "    Testing  score of  split one : 0.851894374282\n",
      "    Training score of  split one : 0.854443801812\n",
      "    Testing  score of  split two : 0.819230769231\n",
      "    Training score of  split two : 0.876730769231\n",
      "    Testing  score of  split three : 0.814843448009\n",
      "    Training score of  split three : 0.874928064454\n",
      "Mean test score  :  0.828656197174\n",
      "Mean train score :  0.868700878499\n",
      "Best parameters : {'max_depth': 9}\n",
      "Training Error :  0.126111111111\n",
      "Testing Error  :  0.149444444444\n"
     ]
    }
   ],
   "source": [
    "DT_1_t1=myfunc(X_1,Y_1,0.8,'DT',True,results=True)[0];"
   ]
  },
  {
   "cell_type": "code",
   "execution_count": 91,
   "metadata": {},
   "outputs": [
    {
     "name": "stdout",
     "output_type": "stream",
     "text": [
      "Test proportion is 0.5\n",
      "\n",
      "Training Error :  0.133333333333\n",
      "Testing Error  :  0.150666666667\n"
     ]
    }
   ],
   "source": [
    "DT_1_t2=myfunc(X_1,Y_1,0.5,'DT',False,results=True)[0];"
   ]
  },
  {
   "cell_type": "code",
   "execution_count": 92,
   "metadata": {
    "scrolled": false
   },
   "outputs": [
    {
     "name": "stdout",
     "output_type": "stream",
     "text": [
      "Test proportion is 0.2\n",
      "\n",
      "Training Error :  0.12875\n",
      "Testing Error  :  0.142222222222\n"
     ]
    }
   ],
   "source": [
    "DT_1_t3=myfunc(X_1,Y_1,0.2,'DT',False,results=True)[0];"
   ]
  },
  {
   "cell_type": "code",
   "execution_count": 160,
   "metadata": {
    "scrolled": true
   },
   "outputs": [
    {
     "name": "stdout",
     "output_type": "stream",
     "text": [
      "Aver_train_error 0.129398148148\n",
      "Aver_test_error 0.14744444444433333\n"
     ]
    }
   ],
   "source": [
    "print('Aver_train_error',( 0.12875 + 0.133333333333 + 0.126111111111 )/3)\n",
    "print('Aver_test_error',( 0.149444444444 + 0.150666666667 + 0.142222222222 )/3)"
   ]
  },
  {
   "cell_type": "markdown",
   "metadata": {},
   "source": [
    "### Dataset 2"
   ]
  },
  {
   "cell_type": "markdown",
   "metadata": {},
   "source": [
    "### SVM-2 "
   ]
  },
  {
   "cell_type": "code",
   "execution_count": 93,
   "metadata": {
    "scrolled": false
   },
   "outputs": [
    {
     "name": "stdout",
     "output_type": "stream",
     "text": [
      "Test proportion is 0.8\n",
      "\n",
      "Inside cv:\n",
      "    Testing  score of  split one : 0.883950617284\n",
      "    Training score of  split one : 0.897390364422\n",
      "    Testing  score of  split two : 0.882330246914\n",
      "    Training score of  split two : 0.897969425571\n",
      "    Testing  score of  split three : 0.885429542645\n",
      "    Training score of  split three : 0.896566358025\n",
      "Mean test score  :  0.883903468948\n",
      "Mean train score :  0.897308716006\n",
      "Best parameters : {'C': 100, 'gamma': 1e-06, 'kernel': 'rbf'}\n",
      "Training Error :  0.0979827089337\n",
      "Testing Error  :  0.102614244545\n"
     ]
    }
   ],
   "source": [
    "svm_2_t1=myfunc(X_2,Y_2,0.8,'svm',True,results=True)[0];"
   ]
  },
  {
   "cell_type": "code",
   "execution_count": 94,
   "metadata": {},
   "outputs": [
    {
     "name": "stdout",
     "output_type": "stream",
     "text": [
      "Test proportion is 0.5\n",
      "\n",
      "Training Error :  0.0981554677207\n",
      "Testing Error  :  0.100609254075\n"
     ]
    }
   ],
   "source": [
    "svm_2_t2=myfunc(X_2,Y_2,0.5,'svm',False,results=True)[0];"
   ]
  },
  {
   "cell_type": "code",
   "execution_count": 95,
   "metadata": {
    "scrolled": false
   },
   "outputs": [
    {
     "name": "stdout",
     "output_type": "stream",
     "text": [
      "Test proportion is 0.2\n",
      "\n",
      "Training Error :  0.0984973240016\n",
      "Testing Error  :  0.106628242075\n"
     ]
    }
   ],
   "source": [
    "svm_2_t3=myfunc(X_2,Y_2,0.2,'svm',False,results=True)[0];"
   ]
  },
  {
   "cell_type": "code",
   "execution_count": 155,
   "metadata": {
    "scrolled": true
   },
   "outputs": [
    {
     "name": "stdout",
     "output_type": "stream",
     "text": [
      "Aver_train_error 0.09821183355199999\n",
      "Aver_test_error 0.103283913565\n"
     ]
    }
   ],
   "source": [
    "print('Aver_train_error',(0.0979827089337+ 0.0981554677207+0.0984973240016)/3)\n",
    "print('Aver_test_error',( 0.100609254075+0.102614244545+ 0.106628242075)/3)"
   ]
  },
  {
   "cell_type": "markdown",
   "metadata": {},
   "source": [
    "### Logistic Regression -2"
   ]
  },
  {
   "cell_type": "code",
   "execution_count": 96,
   "metadata": {
    "scrolled": true
   },
   "outputs": [
    {
     "name": "stdout",
     "output_type": "stream",
     "text": [
      "Test proportion is 0.8\n",
      "\n",
      "Inside cv:\n",
      "    Testing  score of  split one : 0.884259259259\n",
      "    Training score of  split one : 0.886195182211\n",
      "    Testing  score of  split two : 0.885185185185\n",
      "    Training score of  split two : 0.885731933292\n",
      "    Testing  score of  split three : 0.886279357231\n",
      "    Training score of  split three : 0.885648148148\n",
      "Mean test score  :  0.885241267225\n",
      "Mean train score :  0.885858421217\n",
      "Best parameters : {'C': 10}\n",
      "Best threshold :  0.0\n",
      "Training Error :  0.114450391107\n",
      "Testing Error  :  0.108892548374\n"
     ]
    }
   ],
   "source": [
    "lr_2_t1=myfunc(X_2,Y_2,0.8,'log',True,results=True)[0];"
   ]
  },
  {
   "cell_type": "code",
   "execution_count": 97,
   "metadata": {},
   "outputs": [
    {
     "name": "stdout",
     "output_type": "stream",
     "text": [
      "Test proportion is 0.5\n",
      "\n",
      "Training Error :  0.0848155467721\n",
      "Testing Error  :  0.0963280092211\n"
     ]
    }
   ],
   "source": [
    "lr_2_t2=myfunc(X_2,Y_2,0.5,'log',False,results=True)[0];"
   ]
  },
  {
   "cell_type": "code",
   "execution_count": 98,
   "metadata": {
    "scrolled": true
   },
   "outputs": [
    {
     "name": "stdout",
     "output_type": "stream",
     "text": [
      "Test proportion is 0.2\n",
      "\n",
      "Training Error :  0.0936599423631\n",
      "Testing Error  :  0.0979827089337\n"
     ]
    }
   ],
   "source": [
    "lr_2_t3=myfunc(X_2,Y_2,0.2,'log',False,results=True)[0];"
   ]
  },
  {
   "cell_type": "code",
   "execution_count": 161,
   "metadata": {
    "scrolled": true
   },
   "outputs": [
    {
     "name": "stdout",
     "output_type": "stream",
     "text": [
      "Aver_train_error 0.09764196008073334\n",
      "Aver_test_error 0.10106775550960001\n"
     ]
    }
   ],
   "source": [
    "print('Aver_train_error',( 0.114450391107 + 0.0848155467721 + 0.0936599423631 )/3)\n",
    "print('Aver_test_error',(  0.0979827089337+ 0.0963280092211 +0.108892548374  )/3)"
   ]
  },
  {
   "cell_type": "markdown",
   "metadata": {},
   "source": [
    "### Decision Tree -2"
   ]
  },
  {
   "cell_type": "code",
   "execution_count": 99,
   "metadata": {
    "scrolled": false
   },
   "outputs": [
    {
     "name": "stdout",
     "output_type": "stream",
     "text": [
      "Test proportion is 0.8\n",
      "\n",
      "Inside cv:\n",
      "    Testing  score of  split one : 0.887464387464\n",
      "    Training score of  split one : 0.942082006937\n",
      "    Testing  score of  split two : 0.89648622982\n",
      "    Training score of  split two : 0.946643227063\n",
      "    Testing  score of  split three : 0.892554911096\n",
      "    Training score of  split three : 0.943922127255\n",
      "Mean test score  :  0.89216850946\n",
      "Mean train score :  0.944215787085\n",
      "Best parameters : {'max_depth': 4}\n",
      "Training Error :  0.08151502676\n",
      "Testing Error  :  0.0893371757925\n"
     ]
    }
   ],
   "source": [
    "DT_2_t1=myfunc(X_2,Y_2,0.8,'DT',True,results=True)[0];"
   ]
  },
  {
   "cell_type": "code",
   "execution_count": 100,
   "metadata": {},
   "outputs": [
    {
     "name": "stdout",
     "output_type": "stream",
     "text": [
      "Test proportion is 0.5\n",
      "\n",
      "Training Error :  0.0858036890646\n",
      "Testing Error  :  0.0912234480487\n"
     ]
    }
   ],
   "source": [
    "DT_2_t2=myfunc(X_2,Y_2,0.5,'DT',False,results=True)[0];"
   ]
  },
  {
   "cell_type": "code",
   "execution_count": 101,
   "metadata": {
    "scrolled": false
   },
   "outputs": [
    {
     "name": "stdout",
     "output_type": "stream",
     "text": [
      "Test proportion is 0.2\n",
      "\n",
      "Training Error :  0.0865582544257\n",
      "Testing Error  :  0.0938657883903\n"
     ]
    }
   ],
   "source": [
    "DT_2_t3=myfunc(X_2,Y_2,0.2,'DT',False,results=True)[0];"
   ]
  },
  {
   "cell_type": "code",
   "execution_count": 162,
   "metadata": {
    "scrolled": true
   },
   "outputs": [
    {
     "name": "stdout",
     "output_type": "stream",
     "text": [
      "Aver_train_error 0.08462565675009999\n",
      "Aver_test_error 0.09147547074383333\n"
     ]
    }
   ],
   "source": [
    "print('Aver_train_error',( 0.08151502676 +0.0858036890646  + 0.0865582544257 )/3)\n",
    "print('Aver_test_error',( 0.0938657883903 + 0.0893371757925 + 0.0912234480487 )/3)"
   ]
  },
  {
   "cell_type": "markdown",
   "metadata": {},
   "source": [
    "### Dataset 3"
   ]
  },
  {
   "cell_type": "markdown",
   "metadata": {},
   "source": [
    "### SVM-3"
   ]
  },
  {
   "cell_type": "code",
   "execution_count": 102,
   "metadata": {
    "scrolled": true
   },
   "outputs": [
    {
     "name": "stdout",
     "output_type": "stream",
     "text": [
      "Test proportion is 0.8\n",
      "\n",
      "Inside cv:\n",
      "    Testing  score of  split one : 0.822537473233\n",
      "    Training score of  split one : 0.816117363344\n",
      "    Testing  score of  split two : 0.807146680942\n",
      "    Training score of  split two : 0.823553054662\n",
      "    Testing  score of  split three : 0.80364806867\n",
      "    Training score of  split three : 0.820061563169\n",
      "Mean test score  :  0.811110740948\n",
      "Mean train score :  0.819910660392\n",
      "Best parameters : {'C': 100, 'gamma': 0.0001, 'kernel': 'rbf'}\n",
      "Training Error :  0.148571428571\n",
      "Testing Error  :  0.163392857143\n"
     ]
    }
   ],
   "source": [
    "svm_3_t1=myfunc(X_3,Y_3,0.8,'svm',True,results=True)[0];"
   ]
  },
  {
   "cell_type": "code",
   "execution_count": 103,
   "metadata": {},
   "outputs": [
    {
     "name": "stdout",
     "output_type": "stream",
     "text": [
      "Test proportion is 0.5\n",
      "\n",
      "Training Error :  0.127428571429\n",
      "Testing Error  :  0.144571428571\n"
     ]
    }
   ],
   "source": [
    "svm_3_t2=myfunc(X_3,Y_3,0.5,'svm',False,results=True)[0];"
   ]
  },
  {
   "cell_type": "code",
   "execution_count": 104,
   "metadata": {
    "scrolled": false
   },
   "outputs": [
    {
     "name": "stdout",
     "output_type": "stream",
     "text": [
      "Test proportion is 0.2\n",
      "\n",
      "Training Error :  0.130178571429\n",
      "Testing Error  :  0.139285714286\n"
     ]
    }
   ],
   "source": [
    "svm_3_t3=myfunc(X_3,Y_3,0.2,'svm',False,results=True)[0];"
   ]
  },
  {
   "cell_type": "code",
   "execution_count": 163,
   "metadata": {
    "scrolled": true
   },
   "outputs": [
    {
     "name": "stdout",
     "output_type": "stream",
     "text": [
      "Aver_train_error 0.135392857143\n",
      "Aver_test_error 0.14908333333333335\n"
     ]
    }
   ],
   "source": [
    "print('Aver_train_error',( 0.148571428571 + 0.127428571429 + 0.130178571429 )/3)\n",
    "print('Aver_test_error',( 0.144571428571 + 0.139285714286 +  0.163392857143)/3)"
   ]
  },
  {
   "cell_type": "markdown",
   "metadata": {},
   "source": [
    "### Logistic Regression -3"
   ]
  },
  {
   "cell_type": "code",
   "execution_count": 105,
   "metadata": {
    "scrolled": false
   },
   "outputs": [
    {
     "name": "stdout",
     "output_type": "stream",
     "text": [
      "Test proportion is 0.8\n",
      "\n",
      "Inside cv:\n",
      "    Testing  score of  split one : 0.839935760171\n",
      "    Training score of  split one : 0.862004287245\n",
      "    Testing  score of  split two : 0.840471092077\n",
      "    Training score of  split two : 0.855841371919\n",
      "    Testing  score of  split three : 0.851931330472\n",
      "    Training score of  split three : 0.855995717345\n",
      "Mean test score  :  0.844112727573\n",
      "Mean train score :  0.857947125503\n",
      "Best parameters : {'C': 10}\n",
      "Best threshold :  0.4\n",
      "Training Error :  0.139285714286\n",
      "Testing Error  :  0.166071428571\n"
     ]
    }
   ],
   "source": [
    "lr_3_t1=myfunc(X_3,Y_3,0.8,'log',True,results=True)[0];"
   ]
  },
  {
   "cell_type": "code",
   "execution_count": 106,
   "metadata": {},
   "outputs": [
    {
     "name": "stdout",
     "output_type": "stream",
     "text": [
      "Test proportion is 0.5\n",
      "\n",
      "Training Error :  0.143142857143\n",
      "Testing Error  :  0.154857142857\n"
     ]
    }
   ],
   "source": [
    "lr_3_t2=myfunc(X_3,Y_3,0.5,'log',False,results=True)[0];"
   ]
  },
  {
   "cell_type": "code",
   "execution_count": 107,
   "metadata": {
    "scrolled": true
   },
   "outputs": [
    {
     "name": "stdout",
     "output_type": "stream",
     "text": [
      "Test proportion is 0.2\n",
      "\n",
      "Training Error :  0.146785714286\n",
      "Testing Error  :  0.150714285714\n"
     ]
    }
   ],
   "source": [
    "lr_3_t3=myfunc(X_3,Y_3,0.2,'log',False,results=True)[0];"
   ]
  },
  {
   "cell_type": "code",
   "execution_count": 164,
   "metadata": {
    "scrolled": true
   },
   "outputs": [
    {
     "name": "stdout",
     "output_type": "stream",
     "text": [
      "Aver_train_error 0.1430714285716667\n",
      "Aver_test_error 0.157214285714\n"
     ]
    }
   ],
   "source": [
    "print('Aver_train_error',( 0.139285714286 + 0.143142857143 +  0.146785714286)/3)\n",
    "print('Aver_test_error',( 0.166071428571 + 0.154857142857 + 0.150714285714 )/3)"
   ]
  },
  {
   "cell_type": "markdown",
   "metadata": {},
   "source": [
    "### Decision Tree -3"
   ]
  },
  {
   "cell_type": "code",
   "execution_count": 108,
   "metadata": {
    "scrolled": false
   },
   "outputs": [
    {
     "name": "stdout",
     "output_type": "stream",
     "text": [
      "Test proportion is 0.8\n",
      "\n",
      "Inside cv:\n",
      "    Testing  score of  split one : 0.808598253994\n",
      "    Training score of  split one : 0.895622062825\n",
      "    Testing  score of  split two : 0.824575852413\n",
      "    Training score of  split two : 0.889438535741\n",
      "    Testing  score of  split three : 0.826180257511\n",
      "    Training score of  split three : 0.878191401746\n",
      "Mean test score  :  0.819784787973\n",
      "Mean train score :  0.88775066677\n",
      "Best parameters : {'max_depth': 4}\n",
      "Training Error :  0.142142857143\n",
      "Testing Error  :  0.158214285714\n"
     ]
    }
   ],
   "source": [
    "DT_3_t1=myfunc(X_3,Y_3,0.8,'DT',True,results=True)[0];"
   ]
  },
  {
   "cell_type": "code",
   "execution_count": 109,
   "metadata": {},
   "outputs": [
    {
     "name": "stdout",
     "output_type": "stream",
     "text": [
      "Test proportion is 0.5\n",
      "\n",
      "Training Error :  0.143142857143\n",
      "Testing Error  :  0.160380952381\n"
     ]
    }
   ],
   "source": [
    "DT_3_t2=myfunc(X_3,Y_3,0.5,'DT',False,results=True)[0];"
   ]
  },
  {
   "cell_type": "code",
   "execution_count": 110,
   "metadata": {
    "scrolled": false
   },
   "outputs": [
    {
     "name": "stdout",
     "output_type": "stream",
     "text": [
      "Test proportion is 0.2\n",
      "\n",
      "Training Error :  0.14\n",
      "Testing Error  :  0.146428571429\n"
     ]
    }
   ],
   "source": [
    "DT_3_t3=myfunc(X_3,Y_3,0.2,'DT',False,results=True)[0];"
   ]
  },
  {
   "cell_type": "code",
   "execution_count": 165,
   "metadata": {
    "scrolled": true
   },
   "outputs": [
    {
     "name": "stdout",
     "output_type": "stream",
     "text": [
      "Aver_train_error 0.141761904762\n",
      "Aver_test_error 0.15500793650800002\n"
     ]
    }
   ],
   "source": [
    "print('Aver_train_error',( 0.143142857143 + 0.142142857143 + 0.14 )/3)\n",
    "print('Aver_test_error',(  0.158214285714+ 0.160380952381 + 0.146428571429 )/3)"
   ]
  },
  {
   "cell_type": "markdown",
   "metadata": {},
   "source": [
    "### Dataset 4 "
   ]
  },
  {
   "cell_type": "markdown",
   "metadata": {},
   "source": [
    "### SVM-4"
   ]
  },
  {
   "cell_type": "code",
   "execution_count": 111,
   "metadata": {
    "scrolled": false
   },
   "outputs": [
    {
     "name": "stdout",
     "output_type": "stream",
     "text": [
      "Test proportion is 0.8\n",
      "\n",
      "Inside cv:\n",
      "    Testing  score of  split one : 0.545673076923\n",
      "    Training score of  split one : 0.551435085837\n",
      "    Testing  score of  split two : 0.546673819742\n",
      "    Training score of  split two : 0.547912205567\n",
      "    Testing  score of  split three : 0.544393776824\n",
      "    Training score of  split three : 0.549585117773\n",
      "Mean test score  :  0.545580224497\n",
      "Mean train score :  0.549644136392\n",
      "Best parameters : {'C': 100, 'gamma': 0.0001, 'kernel': 'rbf'}\n",
      "Training Error :  0.376428571429\n",
      "Testing Error  :  0.431428571429\n"
     ]
    }
   ],
   "source": [
    "svm_4_t1=myfunc(X_4,Y_4,0.8,'svm',True,results=True)[0];"
   ]
  },
  {
   "cell_type": "code",
   "execution_count": 112,
   "metadata": {},
   "outputs": [
    {
     "name": "stdout",
     "output_type": "stream",
     "text": [
      "Test proportion is 0.5\n",
      "\n",
      "Training Error :  0.365714285714\n",
      "Testing Error  :  0.419714285714\n"
     ]
    }
   ],
   "source": [
    "svm_4_t2=myfunc(X_4,Y_4,0.5,'svm',False,results=True)[0];"
   ]
  },
  {
   "cell_type": "code",
   "execution_count": 113,
   "metadata": {
    "scrolled": false
   },
   "outputs": [
    {
     "name": "stdout",
     "output_type": "stream",
     "text": [
      "Test proportion is 0.2\n",
      "\n",
      "Training Error :  0.375714285714\n",
      "Testing Error  :  0.410714285714\n"
     ]
    }
   ],
   "source": [
    "svm_4_t3=myfunc(X_4,Y_4,0.2,'svm',False,results=True)[0];"
   ]
  },
  {
   "cell_type": "code",
   "execution_count": 157,
   "metadata": {
    "scrolled": false
   },
   "outputs": [
    {
     "name": "stdout",
     "output_type": "stream",
     "text": [
      "Aver_train_error 0.37261904761899994\n",
      "Aver_test_error 0.420619047619\n"
     ]
    }
   ],
   "source": [
    "print('Aver_train_error',(0.376428571429+  0.365714285714+0.375714285714)/3)\n",
    "print('Aver_test_error',(0.431428571429+0.410714285714+ 0.419714285714)/3)"
   ]
  },
  {
   "cell_type": "markdown",
   "metadata": {},
   "source": [
    "### Logistic Regression-4"
   ]
  },
  {
   "cell_type": "code",
   "execution_count": 114,
   "metadata": {
    "scrolled": true
   },
   "outputs": [
    {
     "name": "stdout",
     "output_type": "stream",
     "text": [
      "Test proportion is 0.8\n",
      "\n",
      "Inside cv:\n",
      "    Testing  score of  split one : 0.535256410256\n",
      "    Training score of  split one : 0.679721030043\n",
      "    Testing  score of  split two : 0.583690987124\n",
      "    Training score of  split two : 0.658458244111\n",
      "    Testing  score of  split three : 0.535407725322\n",
      "    Training score of  split three : 0.674785867238\n",
      "Mean test score  :  0.551451707568\n",
      "Mean train score :  0.670988380464\n",
      "Best parameters : {'C': 0.1}\n",
      "Best threshold :  0.5\n",
      "Training Error :  0.351428571429\n",
      "Testing Error  :  0.4225\n"
     ]
    }
   ],
   "source": [
    "lr_4_t1=myfunc(X_4,Y_4,0.8,'log',True,results=True)[0];"
   ]
  },
  {
   "cell_type": "code",
   "execution_count": 115,
   "metadata": {},
   "outputs": [
    {
     "name": "stdout",
     "output_type": "stream",
     "text": [
      "Test proportion is 0.5\n",
      "\n",
      "Training Error :  0.360285714286\n",
      "Testing Error  :  0.414285714286\n"
     ]
    }
   ],
   "source": [
    "lr_4_t2=myfunc(X_4,Y_4,0.5,'log',False,results=True)[0];"
   ]
  },
  {
   "cell_type": "code",
   "execution_count": 116,
   "metadata": {
    "scrolled": false
   },
   "outputs": [
    {
     "name": "stdout",
     "output_type": "stream",
     "text": [
      "Test proportion is 0.2\n",
      "\n",
      "Training Error :  0.374642857143\n",
      "Testing Error  :  0.417857142857\n"
     ]
    }
   ],
   "source": [
    "lr_4_t3=myfunc(X_4,Y_4,0.2,'log',False,results=True)[0];"
   ]
  },
  {
   "cell_type": "code",
   "execution_count": 166,
   "metadata": {
    "scrolled": true
   },
   "outputs": [
    {
     "name": "stdout",
     "output_type": "stream",
     "text": [
      "Aver_train_error 0.3621190476193333\n",
      "Aver_test_error 0.41821428571433333\n"
     ]
    }
   ],
   "source": [
    "print('Aver_train_error',( 0.374642857143 +0.360285714286  + 0.351428571429 )/3)\n",
    "print('Aver_test_error',(0.4225  + 0.414285714286 + 0.417857142857)/3)"
   ]
  },
  {
   "cell_type": "markdown",
   "metadata": {},
   "source": [
    "### Decision Tree-4"
   ]
  },
  {
   "cell_type": "code",
   "execution_count": 167,
   "metadata": {
    "scrolled": false
   },
   "outputs": [
    {
     "name": "stdout",
     "output_type": "stream",
     "text": [
      "Test proportion is 0.8\n",
      "\n",
      "Inside cv:\n",
      "    Testing  score of  split one : 0.519230769231\n",
      "    Training score of  split one : 0.649554308353\n",
      "    Testing  score of  split two : 0.539617035325\n",
      "    Training score of  split two : 0.60904299127\n",
      "    Testing  score of  split three : 0.523605150215\n",
      "    Training score of  split three : 0.655493328941\n",
      "Mean test score  :  0.527484318257\n",
      "Mean train score :  0.638030209521\n",
      "Best parameters : {'max_depth': 1}\n",
      "Training Error :  0.455\n",
      "Testing Error  :  0.4725\n"
     ]
    }
   ],
   "source": [
    "DT_4_t1=myfunc(X_4,Y_4,0.8,'DT',True,results=True)[0];"
   ]
  },
  {
   "cell_type": "code",
   "execution_count": 118,
   "metadata": {},
   "outputs": [
    {
     "name": "stdout",
     "output_type": "stream",
     "text": [
      "Test proportion is 0.5\n",
      "\n",
      "Training Error :  0.464285714286\n",
      "Testing Error  :  0.473333333333\n"
     ]
    }
   ],
   "source": [
    "DT_4_t2=myfunc(X_4,Y_4,0.5,'DT',False,results=True)[0];"
   ]
  },
  {
   "cell_type": "code",
   "execution_count": 119,
   "metadata": {
    "scrolled": true
   },
   "outputs": [
    {
     "name": "stdout",
     "output_type": "stream",
     "text": [
      "Test proportion is 0.2\n",
      "\n",
      "Training Error :  0.408869047619\n",
      "Testing Error  :  0.462380952381\n"
     ]
    }
   ],
   "source": [
    "DT_4_t3=myfunc(X_4,Y_4,0.2,'DT',False,results=True)[0];"
   ]
  },
  {
   "cell_type": "code",
   "execution_count": 168,
   "metadata": {
    "scrolled": true
   },
   "outputs": [
    {
     "name": "stdout",
     "output_type": "stream",
     "text": [
      "Aver_train_error 0.44271825396833336\n",
      "Aver_test_error 0.4694047619046667\n"
     ]
    }
   ],
   "source": [
    "print('Aver_train_error',( 0.455 + 0.464285714286 + 0.408869047619 )/3)\n",
    "print('Aver_test_error',( 0.4725 + 0.473333333333 + 0.462380952381 )/3)"
   ]
  },
  {
   "cell_type": "markdown",
   "metadata": {},
   "source": [
    "# Comparison"
   ]
  },
  {
   "cell_type": "code",
   "execution_count": 120,
   "metadata": {
    "scrolled": true
   },
   "outputs": [],
   "source": [
    "clf_svm_t1=[svm_1_t1,svm_2_t1,svm_3_t1,svm_4_t1]\n",
    "clf_svm_t2=[svm_1_t2,svm_2_t2,svm_3_t2,svm_4_t2]\n",
    "clf_svm_t3=[svm_1_t3,svm_2_t3,svm_3_t3,svm_4_t3]\n",
    "\n",
    "clf_svm_1=[svm_1_t1,svm_1_t2,svm_1_t3]\n",
    "clf_svm_2=[svm_2_t1,svm_2_t2,svm_2_t3]\n",
    "clf_svm_3=[svm_3_t1,svm_3_t2,svm_3_t3]\n",
    "clf_svm_4=[svm_4_t1,svm_4_t2,svm_4_t3]\n",
    "\n",
    "clf_lr_t1=[lr_1_t1,lr_2_t1,lr_3_t1,lr_4_t1]\n",
    "clf_lr_t2=[lr_1_t2,lr_2_t2,lr_3_t2,lr_4_t2]\n",
    "clf_lr_t3=[lr_1_t3,lr_2_t3,lr_3_t3,lr_4_t3]\n",
    "\n",
    "clf_lr_1=[lr_1_t1,lr_1_t2,lr_1_t3]\n",
    "clf_lr_2=[lr_2_t1,lr_2_t2,lr_2_t3]\n",
    "clf_lr_3=[lr_3_t1,lr_3_t2,lr_3_t3]\n",
    "clf_lr_4=[lr_4_t1,lr_4_t2,lr_4_t3]\n",
    "\n",
    "clf_DT_t1=[DT_1_t1,DT_2_t1,DT_3_t1,DT_4_t1]\n",
    "clf_DT_t2=[DT_1_t2,DT_2_t2,DT_3_t2,DT_4_t2]\n",
    "clf_DT_t3=[DT_1_t3,DT_2_t3,DT_3_t3,DT_4_t3]\n",
    "\n",
    "clf_DT_1=[DT_1_t1,DT_1_t2,DT_1_t3]\n",
    "clf_DT_2=[DT_2_t1,DT_2_t2,DT_2_t3]\n",
    "clf_DT_3=[DT_3_t1,DT_3_t2,DT_3_t3]\n",
    "clf_DT_4=[DT_4_t1,DT_4_t2,DT_4_t3]"
   ]
  }
 ],
 "metadata": {
  "kernelspec": {
   "display_name": "Python 3",
   "language": "python",
   "name": "python3"
  },
  "language_info": {
   "codemirror_mode": {
    "name": "ipython",
    "version": 3
   },
   "file_extension": ".py",
   "mimetype": "text/x-python",
   "name": "python",
   "nbconvert_exporter": "python",
   "pygments_lexer": "ipython3",
   "version": "3.7.4"
  }
 },
 "nbformat": 4,
 "nbformat_minor": 2
}
